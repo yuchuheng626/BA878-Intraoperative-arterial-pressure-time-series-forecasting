{
 "cells": [
  {
   "cell_type": "code",
   "execution_count": 68,
   "metadata": {},
   "outputs": [],
   "source": [
    "import pandas as pd\n",
    "import numpy as np\n",
    "import matplotlib.pyplot as plt\n",
    "import seaborn as sns\n",
    "import vitaldb\n",
    "import keras\n",
    "from tensorflow.keras import layers"
   ]
  },
  {
   "cell_type": "code",
   "execution_count": 2,
   "metadata": {},
   "outputs": [],
   "source": [
    "df = pd.read_csv('clinical_data.csv')"
   ]
  },
  {
   "cell_type": "code",
   "execution_count": 3,
   "metadata": {},
   "outputs": [
    {
     "name": "stdout",
     "output_type": "stream",
     "text": [
      "3312\n",
      "[1, 3, 4, 7, 10, 13, 14, 16, 17, 19]\n"
     ]
    }
   ],
   "source": [
    "# preprocess\n",
    "caseids = vitaldb.find_cases(['SNUADC/ART', 'SNUADC/ECG_II', 'SNUADC/PLETH', 'Primus/CO2', 'Solar8000/BT'])\n",
    "\n",
    "print(len(caseids))\n",
    "print(caseids[:10])"
   ]
  },
  {
   "cell_type": "code",
   "execution_count": 4,
   "metadata": {},
   "outputs": [
    {
     "name": "stdout",
     "output_type": "stream",
     "text": [
      "1965\n",
      "[   1    4    5 ... 6380 6383 6385]\n"
     ]
    }
   ],
   "source": [
    "#pre operative hypotention == 1\n",
    "df_preop_htn = df[df['preop_htn']==1]\n",
    "\n",
    "print(len(df_preop_htn))\n",
    "print(df_preop_htn['caseid'].unique())"
   ]
  },
  {
   "cell_type": "code",
   "execution_count": 5,
   "metadata": {},
   "outputs": [],
   "source": [
    "def common_member(a, b):\n",
    "    a_set = set(a)\n",
    "    b_set = set(b)\n",
    " \n",
    "    if (a_set & b_set):\n",
    "        temp = a_set & b_set\n",
    "        print(temp)\n",
    "    else:\n",
    "        print(\"No common elements\") \n",
    "    return temp"
   ]
  },
  {
   "cell_type": "code",
   "execution_count": 6,
   "metadata": {},
   "outputs": [
    {
     "name": "stdout",
     "output_type": "stream",
     "text": [
      "{6144, 1, 2049, 2051, 4, 4098, 2055, 6152, 2057, 10, 4106, 2060, 2063, 16, 4115, 20, 4116, 6163, 6167, 4120, 6169, 28, 6173, 32, 34, 6180, 6184, 43, 6190, 6191, 4144, 2099, 52, 4149, 6199, 58, 2107, 60, 61, 4155, 6208, 66, 67, 2114, 69, 70, 2118, 4167, 4169, 74, 6217, 2124, 77, 6218, 2128, 83, 84, 2132, 4179, 87, 2136, 4186, 6235, 4191, 98, 2148, 104, 4201, 110, 4207, 2161, 2162, 4210, 4211, 4212, 118, 4213, 6258, 6264, 125, 2174, 4222, 128, 4223, 2178, 4225, 132, 2181, 6275, 135, 136, 137, 2183, 4233, 6277, 4237, 6279, 6281, 6283, 145, 2197, 4247, 6296, 2202, 2203, 6306, 2213, 168, 4265, 2218, 4266, 172, 2220, 4268, 4270, 6312, 177, 6314, 6316, 180, 6318, 6324, 4279, 4282, 6331, 190, 191, 4287, 6335, 4290, 195, 6339, 2246, 4294, 2248, 2249, 202, 4299, 6343, 6346, 206, 207, 208, 4305, 210, 6355, 4308, 2265, 6362, 4316, 4317, 222, 6368, 4322, 2276, 6373, 230, 6374, 232, 233, 2280, 6376, 236, 4333, 6378, 2287, 6383, 6385, 242, 243, 2291, 247, 2296, 258, 2306, 2307, 2309, 4354, 263, 266, 2315, 268, 2317, 2318, 272, 2325, 279, 281, 282, 286, 287, 2335, 4388, 295, 296, 4392, 300, 302, 2353, 306, 4401, 2356, 309, 2357, 4408, 2372, 327, 347, 2400, 355, 357, 358, 359, 362, 4458, 2416, 4470, 375, 2424, 4472, 4475, 2428, 4476, 382, 383, 4478, 2433, 4480, 387, 4483, 4485, 2443, 2445, 2446, 2447, 4497, 2452, 406, 4502, 2458, 413, 4509, 4515, 2470, 2472, 4522, 2482, 4531, 440, 441, 4536, 2493, 2495, 2497, 451, 452, 2501, 4550, 2507, 460, 2508, 462, 4559, 4561, 4563, 4568, 2521, 476, 4572, 4576, 481, 484, 2532, 4581, 489, 490, 4591, 497, 499, 4596, 2549, 4599, 4601, 4602, 4603, 4605, 2558, 2559, 4607, 2562, 4617, 2572, 2573, 4620, 4621, 530, 4626, 2580, 4627, 535, 2589, 2590, 543, 2594, 4644, 551, 2602, 4650, 2604, 2605, 4654, 4655, 560, 562, 2611, 2612, 565, 566, 4658, 2618, 2619, 583, 584, 4682, 2637, 590, 4686, 594, 596, 2644, 599, 2648, 2651, 2654, 2655, 4705, 2658, 611, 4711, 4713, 4714, 4716, 622, 4718, 624, 2673, 626, 2674, 4724, 629, 4726, 631, 2680, 4729, 4730, 4731, 637, 2688, 2690, 4739, 645, 2693, 4743, 4744, 4745, 650, 2698, 2703, 2706, 659, 4756, 663, 667, 2716, 2717, 671, 4768, 673, 2721, 4771, 2727, 680, 683, 4780, 685, 4781, 2735, 4783, 689, 691, 693, 2741, 4789, 2744, 4790, 2746, 2747, 4795, 2751, 2755, 4806, 4808, 2764, 2769, 722, 4817, 4818, 725, 2775, 728, 729, 2778, 4825, 2781, 4831, 737, 2785, 4835, 740, 4836, 742, 4839, 747, 4843, 749, 750, 2803, 2804, 757, 758, 2807, 762, 763, 764, 2812, 768, 2819, 773, 2824, 777, 4875, 781, 4880, 2839, 796, 800, 2849, 802, 2850, 2851, 4900, 807, 808, 2858, 2859, 2860, 4907, 815, 2863, 2864, 4913, 819, 2870, 2871, 830, 831, 4938, 843, 846, 847, 4943, 851, 853, 854, 855, 4949, 4953, 859, 4958, 865, 4964, 870, 871, 4971, 2924, 4973, 881, 883, 4982, 4985, 2939, 898, 2947, 2949, 4997, 2951, 2956, 5004, 2958, 911, 5006, 2961, 5008, 5009, 916, 917, 5010, 2970, 2972, 5021, 926, 2975, 932, 933, 2981, 5029, 936, 938, 939, 940, 5035, 5036, 2993, 5043, 948, 5044, 3000, 3001, 3005, 959, 5056, 963, 5059, 965, 967, 971, 972, 5068, 5070, 5072, 980, 3028, 5077, 984, 5080, 3034, 5082, 988, 3037, 3039, 5089, 3042, 5091, 3044, 5093, 1001, 1003, 1005, 3055, 1012, 1023, 5119, 1025, 3073, 1027, 1028, 3075, 5124, 3080, 1035, 1036, 5131, 5135, 3090, 3098, 5146, 3103, 5153, 1061, 3111, 5162, 5163, 1069, 3118, 3125, 1078, 3126, 5173, 3130, 5178, 1086, 1088, 3138, 1091, 5192, 1097, 3146, 3148, 1103, 3152, 5201, 3155, 5204, 3157, 1113, 3161, 3164, 3165, 5213, 5214, 1121, 3169, 1123, 1124, 1125, 3173, 1127, 5217, 1129, 5221, 3180, 5230, 3184, 5234, 5235, 3189, 5237, 1143, 3194, 1147, 1153, 3203, 1156, 5252, 1159, 3207, 3208, 5258, 3214, 3217, 3219, 1172, 1174, 3222, 3226, 5278, 3231, 1185, 1186, 1187, 3233, 3235, 5284, 5285, 3240, 1196, 5293, 3247, 1200, 3249, 3250, 5296, 5297, 1205, 1207, 1208, 1209, 3256, 1211, 1217, 3267, 1221, 1222, 1223, 5317, 1225, 5319, 5322, 5324, 3277, 5326, 1232, 1233, 5328, 3285, 1238, 1244, 5340, 5343, 1248, 1249, 3299, 5349, 5350, 5352, 3307, 5355, 1261, 3309, 3310, 5360, 5363, 5366, 5368, 3321, 1275, 3329, 3330, 1283, 3331, 3332, 1286, 3333, 3336, 5378, 5379, 1291, 1293, 1294, 5390, 3344, 3352, 1307, 5403, 5404, 1311, 5407, 1319, 1320, 3367, 5419, 1324, 3373, 3374, 3375, 5420, 5422, 3379, 3380, 5428, 3383, 5431, 5434, 5435, 5436, 5438, 3396, 3400, 3401, 5451, 5453, 1358, 1364, 1365, 5462, 1367, 5467, 1375, 5472, 3428, 1381, 3429, 1383, 3431, 5478, 1386, 1389, 1392, 3440, 1397, 5497, 3450, 1403, 1404, 5501, 5502, 1407, 1408, 3455, 3458, 5505, 5509, 1416, 5512, 3468, 5519, 5520, 3474, 3478, 5528, 1433, 3483, 3484, 1438, 3489, 3492, 5546, 1451, 3499, 5548, 3502, 3503, 5552, 3505, 3506, 5556, 5559, 1468, 1469, 3516, 1471, 3518, 5571, 3526, 3527, 5574, 3530, 3532, 5582, 5583, 1488, 1489, 3538, 5585, 1492, 1497, 1498, 5594, 1500, 5595, 3550, 1503, 5601, 3559, 1512, 1515, 3563, 5613, 3566, 3567, 5614, 3569, 5616, 3571, 5617, 5621, 5624, 3578, 5626, 5628, 5629, 5633, 3589, 5638, 3593, 3594, 1552, 1555, 1556, 1558, 3607, 3608, 1561, 5654, 5657, 5658, 1567, 1568, 3618, 5669, 5670, 3623, 1576, 5671, 1583, 5680, 5684, 1594, 3642, 5691, 1597, 5694, 1600, 1601, 3648, 5696, 5703, 3662, 3666, 1620, 3668, 3669, 1623, 5717, 5718, 1630, 1632, 3680, 1636, 3686, 5734, 1640, 1641, 3688, 3689, 1644, 3690, 5739, 1647, 1648, 3696, 5743, 3699, 1652, 5749, 5750, 3703, 3704, 5751, 1658, 3706, 5753, 5755, 3712, 1665, 3716, 5765, 5769, 1675, 3724, 3728, 3730, 5778, 5781, 5782, 5783, 1688, 3737, 1690, 5784, 3740, 1697, 1703, 1706, 1710, 3758, 5808, 3761, 5809, 3763, 1716, 5816, 1727, 5823, 3777, 5825, 3785, 3789, 1743, 5840, 1745, 1747, 5844, 1749, 1750, 1752, 5848, 3805, 5853, 3808, 1761, 3810, 3812, 1765, 5861, 3816, 5865, 3822, 3823, 5871, 3825, 5875, 3828, 1783, 1784, 3836, 5888, 3843, 3845, 3846, 5894, 1800, 1804, 3852, 5902, 5907, 3864, 5912, 1819, 1821, 1826, 3877, 1831, 3879, 1834, 1838, 5934, 1840, 3888, 1843, 3891, 1846, 3897, 3898, 5946, 1852, 1855, 1862, 1863, 5958, 1865, 3915, 3918, 1871, 5966, 5967, 3922, 1876, 3924, 3925, 5975, 5976, 1885, 1886, 3935, 5981, 3938, 5986, 1892, 1893, 5989, 1896, 3944, 1901, 3950, 6002, 1907, 3955, 1910, 3958, 3959, 6006, 1914, 3962, 6007, 1925, 6022, 3980, 3981, 6029, 1935, 1941, 3989, 6037, 1944, 3992, 6039, 1947, 6043, 3998, 4004, 4007, 4009, 4010, 6059, 4012, 1965, 4013, 6061, 6063, 1973, 4021, 6071, 4024, 6076, 6080, 4033, 6082, 4036, 6086, 6090, 1995, 4046, 4047, 2000, 4050, 6098, 6103, 4058, 2011, 2012, 2015, 6117, 4070, 6119, 2025, 2026, 6124, 2034, 6133, 2040, 4093}\n",
      "1112\n"
     ]
    }
   ],
   "source": [
    "caseids = common_member(caseids, df_preop_htn['caseid'].unique())\n",
    "print(len(caseids))"
   ]
  },
  {
   "cell_type": "code",
   "execution_count": 7,
   "metadata": {},
   "outputs": [],
   "source": [
    "data = []\n",
    "for i in caseids:\n",
    "    data.append(vitaldb.load_case(i, ['SNUADC/ART', 'SNUADC/ECG_II', 'SNUADC/PLETH', 'Primus/CO2', 'Solar8000/BT']))"
   ]
  },
  {
   "cell_type": "code",
   "execution_count": 8,
   "metadata": {},
   "outputs": [
    {
     "name": "stdout",
     "output_type": "stream",
     "text": [
      "[[        nan         nan         nan  0.30000001         nan]\n",
      " [        nan         nan         nan  0.2                nan]\n",
      " [        nan         nan         nan  0.1                nan]\n",
      " ...\n",
      " [19.82659912 -0.285588    7.53564978         nan         nan]\n",
      " [25.75130081 -0.0485986  10.30049992         nan         nan]\n",
      " [        nan         nan         nan         nan         nan]]\n"
     ]
    }
   ],
   "source": [
    "print(data[0])"
   ]
  },
  {
   "cell_type": "code",
   "execution_count": 9,
   "metadata": {},
   "outputs": [
    {
     "name": "stdout",
     "output_type": "stream",
     "text": [
      "(6183777, 6)\n",
      "                art    ecg_ii      pleth        co2         bt  event_id\n",
      "0        111.660004 -0.433707  37.159401  45.400002  15.800000         0\n",
      "1         84.998703 -0.285588  30.444599  31.200001  22.500000         0\n",
      "2         75.124199 -0.413958  54.538601  30.700001  22.500000         0\n",
      "3        133.384003 -0.433707  41.109200  48.700001  22.400000         0\n",
      "4         95.860802 -0.413958  28.469700   5.000000  22.400000         0\n",
      "...             ...       ...        ...        ...        ...       ...\n",
      "6183772  130.421997  0.050147  39.529301   0.800000  35.000000      1111\n",
      "6183773   80.061401  0.030398  39.924198  44.700001  35.000000      1111\n",
      "6183774   63.274700 -0.009100  40.714199   1.100000  34.900002      1111\n",
      "6183775  125.484001  0.030398  39.134300  43.700001  34.400002      1111\n",
      "6183776   77.099098  0.069896  40.319199   5.000000  34.100002      1111\n",
      "\n",
      "[6183777 rows x 6 columns]\n"
     ]
    }
   ],
   "source": [
    "# preprocess\n",
    "\n",
    "# Initialize an empty list to collect dataframes\n",
    "dfs = []\n",
    "\n",
    "# Loop through each event's data\n",
    "for event_id, event_data in enumerate(data):\n",
    "    # Convert event data to dataframe\n",
    "    df_event = pd.DataFrame(event_data, columns=['art', 'ecg_ii', 'pleth', 'co2', 'bt'])\n",
    "    df_event = df_event.dropna()\n",
    "    # Add event_id column\n",
    "    df_event['event_id'] = event_id\n",
    "    \n",
    "    # Append to our list\n",
    "    dfs.append(df_event)\n",
    "\n",
    "# Concatenate all dataframes together\n",
    "df = pd.concat(dfs, ignore_index=True)\n",
    "\n",
    "print(df.shape)\n",
    "print(df)"
   ]
  },
  {
   "cell_type": "code",
   "execution_count": 10,
   "metadata": {},
   "outputs": [],
   "source": [
    "sampling_rate = 30 # Resampling (Hz)\n",
    "input_length = 60\n",
    "# input_length = [30, 60] # Input data length (sec) \n",
    "pred_lag = 300\n",
    "# pred_lag = [300, 600, 900] # Prediction lag for 300, 600, and 900 sec (5-, 10-, 15-min prediction) \n",
    "# pred_threshold = {'hypo': lambda x: x < 65, # Threshold for hypotension (mmHg)\n",
    "#                    'normo': lambda x: x >= 65}\n",
    "pred_min_length = {'hypo': 60, # Minimum duration (sec) for defining hypotensive event\n",
    "                    'normo': 1200} # for non-hypotensive event (normal)\n",
    "batch_size = 256"
   ]
  },
  {
   "cell_type": "code",
   "execution_count": 11,
   "metadata": {},
   "outputs": [],
   "source": [
    "#train test split\n",
    "num_train = int(0.6 * len(caseids))\n",
    "num_val = int(0.2 * len(caseids))\n",
    "num_test = len(caseids) - num_train - num_val\n",
    "\n",
    "delay = sampling_rate * pred_lag\n",
    "\n",
    "# Step 1: Split case IDs\n",
    "unique_caseids = df['event_id'].unique()\n",
    "np.random.shuffle(unique_caseids)  # Shuffle in place\n",
    "\n",
    "train_caseids = unique_caseids[:num_train]\n",
    "val_caseids = unique_caseids[num_train:num_train+num_val]\n",
    "test_caseids = unique_caseids[num_train+num_val:]\n",
    "\n",
    "# Step 2: Filter main dataframe\n",
    "train_df = df[df['event_id'].isin(train_caseids)]\n",
    "val_df = df[df['event_id'].isin(val_caseids)]\n",
    "test_df = df[df['event_id'].isin(test_caseids)]\n",
    "\n",
    "# Step 3: Create time series datasets\n",
    "# Note: Since each event might have different lengths, you might need to handle each event separately or ensure they have the same length\n",
    "\n",
    "train_dataset = keras.utils.timeseries_dataset_from_array(\n",
    "    train_df.drop(columns=['event_id']).values[:-delay],\n",
    "    train_df['art'].to_numpy()[delay:],\n",
    "    sampling_rate=sampling_rate,\n",
    "    sequence_length=pred_lag,\n",
    "    shuffle=False,\n",
    "    batch_size=batch_size\n",
    ")\n",
    "\n",
    "val_dataset = keras.utils.timeseries_dataset_from_array(\n",
    "    val_df.drop(columns=['event_id']).values[:-delay],\n",
    "    val_df['art'].to_numpy()[delay:],\n",
    "    sampling_rate=sampling_rate,\n",
    "    sequence_length=pred_lag,\n",
    "    shuffle=False,\n",
    "    batch_size=batch_size\n",
    ")\n",
    "\n",
    "test_dataset = keras.utils.timeseries_dataset_from_array(\n",
    "    test_df.drop(columns=['event_id']).values[:-delay],\n",
    "    test_df['art'].to_numpy()[delay:],\n",
    "    sampling_rate=sampling_rate,\n",
    "    sequence_length=pred_lag,\n",
    "    shuffle=False,\n",
    "    batch_size=batch_size\n",
    ")"
   ]
  },
  {
   "cell_type": "code",
   "execution_count": 12,
   "metadata": {},
   "outputs": [
    {
     "name": "stdout",
     "output_type": "stream",
     "text": [
      "Input shape: (256, 300, 5)\n",
      "Target shape: (256,)\n",
      "14511\n",
      "Input shape: (256, 300, 5)\n",
      "Target shape: (256,)\n"
     ]
    }
   ],
   "source": [
    "for samples, targets in train_dataset:\n",
    "    print(\"Input shape:\", samples.shape)\n",
    "    print(\"Target shape:\", targets.shape)\n",
    "    \n",
    "    break\n",
    "\n",
    "print(len(train_dataset))\n",
    "\n",
    "for samples, targets in val_dataset:\n",
    "    print(\"Input shape:\", samples.shape)\n",
    "    print(\"Target shape:\", targets.shape)\n",
    "    break"
   ]
  },
  {
   "cell_type": "code",
   "execution_count": 13,
   "metadata": {},
   "outputs": [],
   "source": [
    "#Model part\n",
    "# First dense NN model\n",
    "\n",
    "# inputs = keras.Input(shape=(pred_lag, df.drop(columns=['event_id']).shape[1]))\n",
    "# x = layers.Flatten()(inputs)\n",
    "# x = layers.Dense(16, activation=\"relu\")(x)\n",
    "# outputs = layers.Dense(1)(x)\n",
    "# model = keras.Model(inputs, outputs)\n",
    "\n",
    "# model.compile(optimizer=\"rmsprop\", loss=\"mse\", metrics=[\"mae\"])\n",
    "\n",
    "# callbacks = [keras.callbacks.ModelCheckpoint(\"jena_dense.h5\", save_best_only=True, save_format='h5')]\n",
    "# history = model.fit(train_dataset, epochs=10, validation_data=val_dataset, callbacks=callbacks)\n",
    "\n",
    "# model = keras.models.load_model(\"jena_dense.h5\")\n",
    "\n",
    "# print(f\"Test MAE: {model.evaluate(test_dataset)[1]}\")"
   ]
  },
  {
   "cell_type": "markdown",
   "metadata": {},
   "source": [
    "## Start from here"
   ]
  },
  {
   "cell_type": "code",
   "execution_count": 14,
   "metadata": {},
   "outputs": [],
   "source": [
    "def create_sequences(input_data, target_data, look_back, forecast_horizon):\n",
    "    X, y = [], []\n",
    "    for i in range(len(input_data) - look_back - forecast_horizon + 1):\n",
    "        X.append(input_data[i:(i + look_back)])\n",
    "        y.append(target_data[(i + look_back):(i + look_back + forecast_horizon)])\n",
    "    return np.array(X), np.array(y)\n",
    "\n",
    "forecast_horizon = 5  # Predicting next 5 time steps"
   ]
  },
  {
   "cell_type": "code",
   "execution_count": 15,
   "metadata": {},
   "outputs": [],
   "source": [
    "# Assuming you have already defined your train_df, val_df, and test_df as before\n",
    "X_train, y_train = create_sequences(train_df.drop(columns=['event_id']).values, train_df['art'].values, input_length, forecast_horizon)\n",
    "X_val, y_val = create_sequences(val_df.drop(columns=['event_id']).values, val_df['art'].values, input_length, forecast_horizon)\n",
    "X_test, y_test = create_sequences(test_df.drop(columns=['event_id']).values, test_df['art'].values, input_length, forecast_horizon)"
   ]
  },
  {
   "cell_type": "code",
   "execution_count": 16,
   "metadata": {},
   "outputs": [
    {
     "name": "stderr",
     "output_type": "stream",
     "text": [
      "WARNING:absl:At this time, the v2.11+ optimizer `tf.keras.optimizers.Adam` runs slowly on M1/M2 Macs, please use the legacy Keras optimizer instead, located at `tf.keras.optimizers.legacy.Adam`.\n"
     ]
    },
    {
     "name": "stdout",
     "output_type": "stream",
     "text": [
      "Model: \"sequential\"\n",
      "_________________________________________________________________\n",
      " Layer (type)                Output Shape              Param #   \n",
      "=================================================================\n",
      " lstm (LSTM)                 (None, 60, 720)           2090880   \n",
      "                                                                 \n",
      " batch_normalization (Batch  (None, 60, 720)           2880      \n",
      " Normalization)                                                  \n",
      "                                                                 \n",
      " lstm_1 (LSTM)               (None, 480)               2305920   \n",
      "                                                                 \n",
      " dense (Dense)               (None, 120)               57720     \n",
      "                                                                 \n",
      " dense_1 (Dense)             (None, 5)                 605       \n",
      "                                                                 \n",
      "=================================================================\n",
      "Total params: 4458005 (17.01 MB)\n",
      "Trainable params: 4456565 (17.00 MB)\n",
      "Non-trainable params: 1440 (5.62 KB)\n",
      "_________________________________________________________________\n"
     ]
    }
   ],
   "source": [
    "from tensorflow.keras.models import Sequential\n",
    "from tensorflow.keras.layers import LSTM, Dense, BatchNormalization\n",
    "\n",
    "input_shape = (input_length, df.drop(columns=['event_id']).shape[1])\n",
    "\n",
    "model = Sequential()\n",
    "model.add(LSTM(720, activation=\"tanh\", return_sequences=True, input_shape=input_shape))\n",
    "model.add(BatchNormalization())\n",
    "model.add(LSTM(480, activation=\"tanh\"))\n",
    "model.add(Dense(120, activation=\"tanh\"))\n",
    "model.add(Dense(forecast_horizon))  # Output layer with 'forecast_horizon' units\n",
    "\n",
    "optimizer = keras.optimizers.Adam()\n",
    "model.compile(optimizer=optimizer, loss='mean_squared_error', metrics=['mae'])\n",
    "model.summary()\n"
   ]
  },
  {
   "cell_type": "code",
   "execution_count": 76,
   "metadata": {},
   "outputs": [
    {
     "name": "stdout",
     "output_type": "stream",
     "text": [
      "You must install pydot (`pip install pydot`) and install graphviz (see instructions at https://graphviz.gitlab.io/download/) for plot_model to work.\n"
     ]
    }
   ],
   "source": [
    "from tensorflow.keras.utils import plot_model\n",
    "\n",
    "# Assuming 'model' is your Keras model\n",
    "plot_model(model, to_file='model_plot.png', show_shapes=True, show_layer_names=True)"
   ]
  },
  {
   "cell_type": "code",
   "execution_count": 18,
   "metadata": {},
   "outputs": [
    {
     "name": "stdout",
     "output_type": "stream",
     "text": [
      "Epoch 1/5\n",
      "114497/114497 [==============================] - 45548s 398ms/step - loss: 415.0760 - mae: 13.1318 - val_loss: 358.0522 - val_mae: 11.7129\n",
      "Epoch 2/5\n"
     ]
    },
    {
     "name": "stderr",
     "output_type": "stream",
     "text": [
      "/Library/Frameworks/Python.framework/Versions/3.10/lib/python3.10/site-packages/keras/src/engine/training.py:3079: UserWarning: You are saving your model as an HDF5 file via `model.save()`. This file format is considered legacy. We recommend using instead the native Keras format, e.g. `model.save('my_model.keras')`.\n",
      "  saving_api.save_model(\n"
     ]
    },
    {
     "name": "stdout",
     "output_type": "stream",
     "text": [
      "114497/114497 [==============================] - 46205s 404ms/step - loss: 366.4007 - mae: 12.0740 - val_loss: 356.7182 - val_mae: 11.5302\n",
      "Epoch 3/5\n",
      "114497/114497 [==============================] - 46795s 409ms/step - loss: 370.1382 - mae: 12.1904 - val_loss: 371.2664 - val_mae: 11.8205\n",
      "Epoch 4/5\n",
      "114497/114497 [==============================] - 46993s 410ms/step - loss: 437.0703 - mae: 14.0972 - val_loss: 509.1000 - val_mae: 16.5175\n",
      "Epoch 5/5\n",
      "114497/114497 [==============================] - 45961s 401ms/step - loss: 483.2746 - mae: 15.7490 - val_loss: 460.0024 - val_mae: 14.7188\n"
     ]
    }
   ],
   "source": [
    "from keras.callbacks import EarlyStopping, ModelCheckpoint\n",
    "\n",
    "early_stopping = EarlyStopping(monitor='val_loss', patience=10)\n",
    "model_checkpoint = ModelCheckpoint('best_model.h5', save_best_only=True)\n",
    "\n",
    "history = model.fit(X_train, y_train, epochs=5, validation_data=(X_val, y_val), callbacks=[early_stopping, model_checkpoint])\n"
   ]
  },
  {
   "cell_type": "code",
   "execution_count": 19,
   "metadata": {},
   "outputs": [
    {
     "name": "stdout",
     "output_type": "stream",
     "text": [
      "39931/39931 [==============================] - 4181s 105ms/step - loss: 350.3533 - mae: 11.3914\n",
      "Test Loss: 350.3533020019531, Test MAE: 11.39143180847168\n"
     ]
    }
   ],
   "source": [
    "model.load_weights('best_model.h5')\n",
    "test_loss, test_mae = model.evaluate(X_test, y_test)\n",
    "print(f\"Test Loss: {test_loss}, Test MAE: {test_mae}\")"
   ]
  },
  {
   "cell_type": "code",
   "execution_count": 36,
   "metadata": {},
   "outputs": [
    {
     "name": "stdout",
     "output_type": "stream",
     "text": [
      "39931/39931 [==============================] - 4602s 115ms/step\n"
     ]
    }
   ],
   "source": [
    "import matplotlib.pyplot as plt\n",
    "\n",
    "# Assuming you have your actual and predicted values in multi-dimensional arrays\n",
    "# Extracting only the 'art' column from both actual and predicted values\n",
    "# Replace '0' with the correct index of the 'art' column\n",
    "actual_values = y_test[:,0]  # Extracting the 'art' column from actual values\n",
    "predicted_values = model.predict(X_test)  # Extracting the 'art' column from predicted values"
   ]
  },
  {
   "cell_type": "code",
   "execution_count": 37,
   "metadata": {},
   "outputs": [
    {
     "data": {
      "image/png": "[encoded data removed]",
      "text/plain": [
       "<Figure size 1000x600 with 1 Axes>"
      ]
     },
     "metadata": {},
     "output_type": "display_data"
    }
   ],
   "source": [
    "# Creating a time series index for the first 10,000 points\n",
    "time_index = range(10000)\n",
    "\n",
    "# Slicing the actual and predicted values to include only the first 10,000 points\n",
    "actual_values_sliced = actual_values[:10000]\n",
    "predicted_values_sliced = predicted_values[:,0][:10000]\n",
    "\n",
    "# Plotting the actual values\n",
    "plt.figure(figsize=(10, 6))\n",
    "plt.plot(time_index, actual_values_sliced, label='Actual', color='blue')\n",
    "\n",
    "# Plotting the predicted values\n",
    "plt.plot(time_index, predicted_values_sliced, label='Predicted', color='red')\n",
    "\n",
    "# Adding title and labels\n",
    "plt.title('Forecasting Visualization')\n",
    "plt.xlabel('Time Index')\n",
    "plt.ylabel('Value')\n",
    "plt.legend()\n",
    "\n",
    "# Show the plot\n",
    "plt.show()"
   ]
  },
  {
   "cell_type": "code",
   "execution_count": 20,
   "metadata": {},
   "outputs": [],
   "source": [
    "# from tensorflow.keras.models import Sequential\n",
    "# from tensorflow.keras.layers import LSTM, Dense\n",
    "# from sklearn.preprocessing import MinMaxScaler\n",
    "# from keras.preprocessing.sequence import TimeseriesGenerator\n",
    "\n",
    "# # Assuming pred_lag and number of features are defined correctly\n",
    "# input_shape = (pred_lag, df.drop(columns=['event_id']).shape[1])\n",
    "\n",
    "# inputs = keras.Input(shape=input_shape)\n",
    "# x = layers.LSTM(480, activation=\"tanh\", return_sequences=True)(inputs)  # Default activation function is tanh\n",
    "# x = layers.BatchNormalization()(x)\n",
    "# x = layers.LSTM(240, activation=\"tanh\")(x)\n",
    "# x = layers.Dense(120, activation=\"tanh\")(x)\n",
    "# outputs = layers.Dense(1)(x)\n",
    "# model = keras.Model(inputs, outputs)\n",
    "\n",
    "# optimizer = keras.optimizers.Adam()\n",
    "\n",
    "# model.compile(optimizer=optimizer, loss='mean_squared_error', metrics=['mae'])\n",
    "# model.summary()\n"
   ]
  },
  {
   "cell_type": "code",
   "execution_count": 21,
   "metadata": {},
   "outputs": [],
   "source": [
    "# from keras.callbacks import EarlyStopping, ModelCheckpoint\n",
    "\n",
    "# early_stopping = EarlyStopping(monitor='val_loss', patience=10)\n",
    "# model_checkpoint = ModelCheckpoint('best_model.h5', save_best_only=True)\n",
    "\n",
    "# history = model.fit(train_dataset, epochs=1, validation_data=val_dataset, callbacks=[early_stopping, model_checkpoint])\n",
    "\n",
    "# model.load_weights('best_model.h5')"
   ]
  },
  {
   "cell_type": "code",
   "execution_count": 22,
   "metadata": {},
   "outputs": [],
   "source": [
    "# loss, mae = model.evaluate(test_dataset)\n",
    "# print(f\"Test MAE: {mae}\")"
   ]
  },
  {
   "cell_type": "code",
   "execution_count": null,
   "metadata": {},
   "outputs": [],
   "source": []
  }
 ],
 "metadata": {
  "kernelspec": {
   "display_name": "Python 3",
   "language": "python",
   "name": "python3"
  },
  "language_info": {
   "codemirror_mode": {
    "name": "ipython",
    "version": 3
   },
   "file_extension": ".py",
   "mimetype": "text/x-python",
   "name": "python",
   "nbconvert_exporter": "python",
   "pygments_lexer": "ipython3",
   "version": "3.10.6"
  }
 },
 "nbformat": 4,
 "nbformat_minor": 2
}
